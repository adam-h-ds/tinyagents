{
 "cells": [
  {
   "cell_type": "code",
   "execution_count": 1,
   "metadata": {},
   "outputs": [
    {
     "name": "stderr",
     "output_type": "stream",
     "text": [
      "/Users/adamhedib/Library/Caches/pypoetry/virtualenvs/tinyagents-JQO3J91T-py3.11/lib/python3.11/site-packages/tqdm/auto.py:21: TqdmWarning: IProgress not found. Please update jupyter and ipywidgets. See https://ipywidgets.readthedocs.io/en/stable/user_install.html\n",
      "  from .autonotebook import tqdm as notebook_tqdm\n",
      "2024-07-16 21:24:59,734\tINFO util.py:154 -- Missing packages: ['ipywidgets']. Run `pip install -U ipywidgets`, then restart the notebook server for rich notebook output.\n"
     ]
    }
   ],
   "source": [
    "from tinyagents import chainable, respond\n",
    "\n",
    "@chainable\n",
    "class Agent:\n",
    "    name: str = \"main_agent\"\n",
    "\n",
    "    def __init__(self):\n",
    "        pass\n",
    "\n",
    "    def run(self, input: str):\n",
    "        return \"Hello! I was provided with some tool outputs: \" + str(input)\n",
    "    \n",
    "    def output_handler(self, output):\n",
    "        return respond(output)\n",
    "\n",
    "@chainable\n",
    "class Tool1:\n",
    "    \"\"\" Some tool \"\"\"\n",
    "    name: str = \"tool1\"\n",
    "\n",
    "    def run(self, input):\n",
    "        return \"Tool 1 has been triggered.\"\n",
    "\n",
    "@chainable\n",
    "class Tool2:\n",
    "    \"\"\" Some other tool \"\"\"\n",
    "    def __init__(self, phrase: str):\n",
    "        self.phrase = phrase\n",
    "\n",
    "    def run(self, input):\n",
    "        return f\"Tool 2 has been {self.phrase}.\""
   ]
  },
  {
   "cell_type": "code",
   "execution_count": 2,
   "metadata": {},
   "outputs": [
    {
     "data": {
      "text/plain": [
       "ConditionalBranch(tool1 | Tool2)"
      ]
     },
     "execution_count": 2,
     "metadata": {},
     "output_type": "execute_result"
    }
   ],
   "source": [
    "branch1 = Tool1() / Tool2(phrase=\"executed\")\n",
    "\n",
    "def router(x):\n",
    "    if x.startswith(\"blue\"):\n",
    "        return Tool1.name\n",
    "    \n",
    "    return Tool2.name\n",
    "    \n",
    "\n",
    "branch1.bind_router(router)"
   ]
  },
  {
   "cell_type": "code",
   "execution_count": 3,
   "metadata": {},
   "outputs": [
    {
     "data": {
      "text/plain": [
       "'ConditionalBranch(tool1 | Tool2) -> main_agent'"
      ]
     },
     "execution_count": 3,
     "metadata": {},
     "output_type": "execute_result"
    }
   ],
   "source": [
    "graph = branch1 | Agent()\n",
    "str(graph)"
   ]
  },
  {
   "cell_type": "code",
   "execution_count": 4,
   "metadata": {},
   "outputs": [
    {
     "name": "stdout",
     "output_type": "stream",
     "text": [
      "\u001b[36;1m\u001b[1;3m\n",
      " > Running node: ConditionalBranch(tool1 | Tool2)\n",
      "\u001b[0m\n",
      "\u001b[33;1m\u001b[1;3m\tInput: blue!\n",
      "\u001b[0m\n",
      "\u001b[32;1m\u001b[1;3m\tOutput (ConditionalBranch(tool1 | Tool2)): {\n",
      "  \"content\": \"Tool 1 has been triggered.\",\n",
      "  \"action\": null,\n",
      "  \"ref\": null\n",
      "}\u001b[0m\n",
      "\u001b[36;1m\u001b[1;3m\n",
      " > Running node: main_agent\n",
      "\u001b[0m\n",
      "\u001b[33;1m\u001b[1;3m\tInput: Tool 1 has been triggered.\n",
      "\u001b[0m\n",
      "\u001b[32;1m\u001b[1;3m\tOutput (main_agent): {\n",
      "  \"content\": \"Hello! I was provided with some tool outputs: Tool 1 has been triggered.\",\n",
      "  \"action\": \"respond\",\n",
      "  \"ref\": null\n",
      "}\u001b[0m\n"
     ]
    },
    {
     "data": {
      "text/plain": [
       "'Hello! I was provided with some tool outputs: Tool 1 has been triggered.'"
      ]
     },
     "execution_count": 4,
     "metadata": {},
     "output_type": "execute_result"
    }
   ],
   "source": [
    "# Run without using Ray\n",
    "runner = graph.compile()\n",
    "runner.invoke(\"blue!\")"
   ]
  },
  {
   "cell_type": "code",
   "execution_count": 5,
   "metadata": {},
   "outputs": [
    {
     "name": "stdout",
     "output_type": "stream",
     "text": [
      "\u001b[36;1m\u001b[1;3m\n",
      " > Running node: ConditionalBranch(tool1 | Tool2)\n",
      "\u001b[0m\n",
      "\u001b[33;1m\u001b[1;3m\tInput: yellow!\n",
      "\u001b[0m\n",
      "\u001b[32;1m\u001b[1;3m\tOutput (ConditionalBranch(tool1 | Tool2)): {\n",
      "  \"content\": \"Tool 2 has been executed.\",\n",
      "  \"action\": null,\n",
      "  \"ref\": null\n",
      "}\u001b[0m\n",
      "\u001b[36;1m\u001b[1;3m\n",
      " > Running node: main_agent\n",
      "\u001b[0m\n",
      "\u001b[33;1m\u001b[1;3m\tInput: Tool 2 has been executed.\n",
      "\u001b[0m\n",
      "\u001b[32;1m\u001b[1;3m\tOutput (main_agent): {\n",
      "  \"content\": \"Hello! I was provided with some tool outputs: Tool 2 has been executed.\",\n",
      "  \"action\": \"respond\",\n",
      "  \"ref\": null\n",
      "}\u001b[0m\n"
     ]
    },
    {
     "data": {
      "text/plain": [
       "'Hello! I was provided with some tool outputs: Tool 2 has been executed.'"
      ]
     },
     "execution_count": 5,
     "metadata": {},
     "output_type": "execute_result"
    }
   ],
   "source": [
    "runner.invoke(\"yellow!\")"
   ]
  },
  {
   "cell_type": "code",
   "execution_count": 6,
   "metadata": {},
   "outputs": [
    {
     "data": {
      "text/plain": [
       "<ray.serve.deployment.Application at 0x109fab390>"
      ]
     },
     "execution_count": 6,
     "metadata": {},
     "output_type": "execute_result"
    }
   ],
   "source": [
    "# Run using Ray\n",
    "runner = graph.compile(\n",
    "    use_ray=True,\n",
    "    ray_options={\n",
    "        \"tool1\": {\n",
    "            \"num_replicas\": 3\n",
    "        },\n",
    "        \"tool2\": {\n",
    "            \"num_replicas\": 3,\n",
    "            # \"placement_group_strategy\": ... \n",
    "        },\n",
    "        \"runner\": {\n",
    "            \"num_replicas\": 2\n",
    "        }\n",
    "    }\n",
    ")\n",
    "runner"
   ]
  },
  {
   "cell_type": "code",
   "execution_count": null,
   "metadata": {},
   "outputs": [
    {
     "name": "stderr",
     "output_type": "stream",
     "text": [
      "2024-07-16 21:25:01,849\tINFO worker.py:1762 -- Started a local Ray instance. View the dashboard at \u001b[1m\u001b[32mhttp://127.0.0.1:8266 \u001b[39m\u001b[22m\n",
      "\u001b[36m(ProxyActor pid=91494)\u001b[0m INFO 2024-07-16 21:25:03,789 proxy 127.0.0.1 proxy.py:1179 - Proxy starting on node 9e82adfd793582eb905bc69a17b0d83907df45db331c3a8cd5bc53a9 (HTTP port: 8000).\n",
      "2024-07-16 21:25:03,815\tINFO handle.py:126 -- Created DeploymentHandle '0n6kt5xc' for Deployment(name='tool1', app='MyApp').\n",
      "2024-07-16 21:25:03,816\tINFO handle.py:126 -- Created DeploymentHandle 'nfon0gsb' for Deployment(name='Tool2', app='MyApp').\n",
      "2024-07-16 21:25:03,816\tINFO handle.py:126 -- Created DeploymentHandle '6i6we0zk' for Deployment(name='main_agent', app='MyApp').\n",
      "2024-07-16 21:25:03,817\tINFO handle.py:126 -- Created DeploymentHandle 'fbtkerzx' for Deployment(name='tool1', app='MyApp').\n",
      "2024-07-16 21:25:03,817\tINFO handle.py:126 -- Created DeploymentHandle 'tbs7qmls' for Deployment(name='Tool2', app='MyApp').\n",
      "2024-07-16 21:25:03,817\tINFO handle.py:126 -- Created DeploymentHandle '05gmw4ry' for Deployment(name='main_agent', app='MyApp').\n",
      "2024-07-16 21:25:03,819\tINFO handle.py:126 -- Created DeploymentHandle 'm7eocnwp' for Deployment(name='runner', app='MyApp').\n",
      "2024-07-16 21:25:03,819\tINFO handle.py:126 -- Created DeploymentHandle 'hm664hkg' for Deployment(name='tool1', app='MyApp').\n",
      "2024-07-16 21:25:03,819\tINFO handle.py:126 -- Created DeploymentHandle '7oqo51xh' for Deployment(name='Tool2', app='MyApp').\n",
      "2024-07-16 21:25:03,819\tINFO handle.py:126 -- Created DeploymentHandle 'ljabqpfj' for Deployment(name='main_agent', app='MyApp').\n",
      "2024-07-16 21:25:03,820\tINFO handle.py:126 -- Created DeploymentHandle 'kt6ua2jq' for Deployment(name='runner', app='MyApp').\n",
      "\u001b[36m(ServeController pid=91493)\u001b[0m INFO 2024-07-16 21:25:03,874 controller 91493 deployment_state.py:1598 - Deploying new version of Deployment(name='tool1', app='MyApp') (initial target replicas: 3).\n",
      "\u001b[36m(ServeController pid=91493)\u001b[0m INFO 2024-07-16 21:25:03,875 controller 91493 deployment_state.py:1598 - Deploying new version of Deployment(name='Tool2', app='MyApp') (initial target replicas: 1).\n",
      "\u001b[36m(ServeController pid=91493)\u001b[0m INFO 2024-07-16 21:25:03,876 controller 91493 deployment_state.py:1598 - Deploying new version of Deployment(name='main_agent', app='MyApp') (initial target replicas: 1).\n",
      "\u001b[36m(ServeController pid=91493)\u001b[0m INFO 2024-07-16 21:25:03,876 controller 91493 deployment_state.py:1598 - Deploying new version of Deployment(name='runner', app='MyApp') (initial target replicas: 2).\n",
      "\u001b[36m(ServeController pid=91493)\u001b[0m INFO 2024-07-16 21:25:03,978 controller 91493 deployment_state.py:1844 - Adding 3 replicas to Deployment(name='tool1', app='MyApp').\n",
      "\u001b[36m(ServeController pid=91493)\u001b[0m INFO 2024-07-16 21:25:03,981 controller 91493 deployment_state.py:1844 - Adding 1 replica to Deployment(name='Tool2', app='MyApp').\n",
      "\u001b[36m(ServeController pid=91493)\u001b[0m INFO 2024-07-16 21:25:03,982 controller 91493 deployment_state.py:1844 - Adding 1 replica to Deployment(name='main_agent', app='MyApp').\n",
      "\u001b[36m(ServeController pid=91493)\u001b[0m INFO 2024-07-16 21:25:03,982 controller 91493 deployment_state.py:1844 - Adding 2 replicas to Deployment(name='runner', app='MyApp').\n",
      "2024-07-16 21:25:05,839\tINFO handle.py:126 -- Created DeploymentHandle '0qy5tzji' for Deployment(name='runner', app='MyApp').\n",
      "2024-07-16 21:25:05,840\tINFO api.py:583 -- Deployed app 'MyApp' successfully.\n"
     ]
    },
    {
     "name": "stdout",
     "output_type": "stream",
     "text": [
      "\u001b[36m(ServeReplica:MyApp:main_agent pid=91499)\u001b[0m \u001b[36;1m\u001b[1;3m\n",
      "\u001b[36m(ServeReplica:MyApp:main_agent pid=91499)\u001b[0m  > Running node: main_agent\n",
      "\u001b[36m(ServeReplica:MyApp:main_agent pid=91499)\u001b[0m \u001b[0m\n",
      "\u001b[36m(ServeReplica:MyApp:main_agent pid=91499)\u001b[0m \u001b[33;1m\u001b[1;3m\tInput: Tool 1 has been triggered.\n",
      "\u001b[36m(ServeReplica:MyApp:main_agent pid=91499)\u001b[0m \u001b[0m\n",
      "\u001b[36m(ServeReplica:MyApp:main_agent pid=91499)\u001b[0m \u001b[32;1m\u001b[1;3m\tOutput (main_agent): {\n",
      "\u001b[36m(ServeReplica:MyApp:main_agent pid=91499)\u001b[0m   \"content\": \"Hello! I was provided with some tool outputs: Tool 1 has been triggered.\",\n",
      "\u001b[36m(ServeReplica:MyApp:main_agent pid=91499)\u001b[0m   \"action\": \"respond\",\n",
      "\u001b[36m(ServeReplica:MyApp:main_agent pid=91499)\u001b[0m   \"ref\": null\n",
      "\u001b[36m(ServeReplica:MyApp:main_agent pid=91499)\u001b[0m }\u001b[0m\n",
      "\u001b[36m(ServeReplica:MyApp:main_agent pid=91499)\u001b[0m \u001b[36;1m\u001b[1;3m\n",
      "\u001b[36m(ServeReplica:MyApp:main_agent pid=91499)\u001b[0m  > Running node: main_agent\n",
      "\u001b[36m(ServeReplica:MyApp:main_agent pid=91499)\u001b[0m \u001b[0m\n",
      "\u001b[36m(ServeReplica:MyApp:main_agent pid=91499)\u001b[0m \u001b[33;1m\u001b[1;3m\tInput: Tool 1 has been triggered.\n",
      "\u001b[36m(ServeReplica:MyApp:main_agent pid=91499)\u001b[0m \u001b[0m\n",
      "\u001b[36m(ServeReplica:MyApp:main_agent pid=91499)\u001b[0m \u001b[32;1m\u001b[1;3m\tOutput (main_agent): {\n",
      "\u001b[36m(ServeReplica:MyApp:main_agent pid=91499)\u001b[0m   \"content\": \"Hello! I was provided with some tool outputs: Tool 1 has been triggered.\",\n",
      "\u001b[36m(ServeReplica:MyApp:main_agent pid=91499)\u001b[0m   \"action\": \"respond\",\n",
      "\u001b[36m(ServeReplica:MyApp:main_agent pid=91499)\u001b[0m   \"ref\": null\n",
      "\u001b[36m(ServeReplica:MyApp:main_agent pid=91499)\u001b[0m }\u001b[0m\n",
      "\u001b[36m(ServeReplica:MyApp:runner pid=91500)\u001b[0m \u001b[36;1m\u001b[1;3m\n",
      "\u001b[36m(ServeReplica:MyApp:runner pid=91500)\u001b[0m  > Running node: ConditionalBranch(tool1 | Tool2)\n",
      "\u001b[36m(ServeReplica:MyApp:runner pid=91500)\u001b[0m \u001b[0m\n",
      "\u001b[36m(ServeReplica:MyApp:runner pid=91500)\u001b[0m \u001b[33;1m\u001b[1;3m\tInput: blue!\n",
      "\u001b[36m(ServeReplica:MyApp:runner pid=91500)\u001b[0m \u001b[0m\n",
      "\u001b[36m(ServeReplica:MyApp:runner pid=91500)\u001b[0m \u001b[32;1m\u001b[1;3m\tOutput (ConditionalBranch(tool1 | Tool2)): {\n",
      "\u001b[36m(ServeReplica:MyApp:runner pid=91500)\u001b[0m   \"content\": \"Tool 1 has been triggered.\",\n",
      "\u001b[36m(ServeReplica:MyApp:runner pid=91500)\u001b[0m   \"action\": null,\n",
      "\u001b[36m(ServeReplica:MyApp:runner pid=91500)\u001b[0m }\u001b[0m\n",
      "\u001b[36m(ServeReplica:MyApp:runner pid=91500)\u001b[0m \u001b[36;1m\u001b[1;3m\n",
      "\u001b[36m(ServeReplica:MyApp:runner pid=91500)\u001b[0m  > Running node: ConditionalBranch(tool1 | Tool2)\n",
      "\u001b[36m(ServeReplica:MyApp:runner pid=91500)\u001b[0m \u001b[0m\n",
      "\u001b[36m(ServeReplica:MyApp:runner pid=91500)\u001b[0m \u001b[33;1m\u001b[1;3m\tInput: blue\n",
      "\u001b[36m(ServeReplica:MyApp:runner pid=91500)\u001b[0m \u001b[0m\n",
      "\u001b[36m(ServeReplica:MyApp:runner pid=91500)\u001b[0m \u001b[32;1m\u001b[1;3m\tOutput (ConditionalBranch(tool1 | Tool2)): {\n",
      "\u001b[36m(ServeReplica:MyApp:runner pid=91500)\u001b[0m   \"content\": \"Tool 1 has been triggered.\",\n",
      "\u001b[36m(ServeReplica:MyApp:runner pid=91500)\u001b[0m   \"action\": null,\n",
      "\u001b[36m(ServeReplica:MyApp:runner pid=91500)\u001b[0m }\u001b[0m\n"
     ]
    },
    {
     "name": "stderr",
     "output_type": "stream",
     "text": [
      "\u001b[36m(ServeReplica:MyApp:main_agent pid=91499)\u001b[0m INFO 2024-07-16 21:25:06,874 MyApp_main_agent w51irvql 0d4c2159-2ec3-4cba-8a0f-c8bf1d726e1e replica.py:373 - AINVOKE OK 1.3ms\n",
      "\u001b[36m(ServeReplica:MyApp:main_agent pid=91499)\u001b[0m INFO 2024-07-16 21:25:06,907 MyApp_main_agent w51irvql afc3e705-69cb-479f-8fbf-53f618940545 /invoke replica.py:373 - AINVOKE OK 0.6ms\n",
      "\u001b[36m(ServeReplica:MyApp:tool1 pid=91496)\u001b[0m INFO 2024-07-16 21:25:06,905 MyApp_tool1 847ttylr afc3e705-69cb-479f-8fbf-53f618940545 /invoke replica.py:373 - INVOKE OK 1.0ms\n",
      "\u001b[36m(ServeReplica:MyApp:tool1 pid=91495)\u001b[0m INFO 2024-07-16 21:25:06,868 MyApp_tool1 fk5u5lfc 0d4c2159-2ec3-4cba-8a0f-c8bf1d726e1e replica.py:373 - INVOKE OK 0.9ms\n",
      "\u001b[36m(ServeReplica:MyApp:runner pid=91500)\u001b[0m INFO 2024-07-16 21:25:06,875 MyApp_runner vco8sbup 0d4c2159-2ec3-4cba-8a0f-c8bf1d726e1e replica.py:373 - AINVOKE OK 17.0ms\n",
      "\u001b[36m(ServeReplica:MyApp:runner pid=91500)\u001b[0m INFO 2024-07-16 21:25:06,907 MyApp_runner vco8sbup afc3e705-69cb-479f-8fbf-53f618940545 /invoke replica.py:373 - __CALL__ OK 6.7ms\n"
     ]
    },
    {
     "name": "stderr",
     "output_type": "stream",
     "text": [
      "\u001b[36m(ServeReplica:MyApp:main_agent pid=91499)\u001b[0m INFO 2024-07-16 21:25:17,001 MyApp_main_agent w51irvql 50d3456f-ccaf-4227-b807-31ecc90508ea /invoke replica.py:373 - AINVOKE OK 1.8ms\n",
      "\u001b[36m(ServeReplica:MyApp:runner pid=91501)\u001b[0m INFO 2024-07-16 21:25:17,001 MyApp_runner 66wygpf1 50d3456f-ccaf-4227-b807-31ecc90508ea /invoke replica.py:373 - __CALL__ OK 63.3ms\n",
      "\u001b[36m(ServeReplica:MyApp:tool1 pid=91496)\u001b[0m INFO 2024-07-16 21:25:16,989 MyApp_tool1 847ttylr 50d3456f-ccaf-4227-b807-31ecc90508ea /invoke replica.py:373 - INVOKE OK 6.5ms\n"
     ]
    },
    {
     "name": "stderr",
     "output_type": "stream",
     "text": [
      "\u001b[36m(ServeReplica:MyApp:main_agent pid=91499)\u001b[0m INFO 2024-07-16 21:25:21,102 MyApp_main_agent w51irvql 471b19fb-0a25-4d68-b35d-493172fe15ef replica.py:373 - AINVOKE OK 0.7ms\n",
      "\u001b[36m(ServeReplica:MyApp:tool1 pid=91496)\u001b[0m INFO 2024-07-16 21:25:21,097 MyApp_tool1 847ttylr 471b19fb-0a25-4d68-b35d-493172fe15ef replica.py:373 - INVOKE OK 0.9ms\n",
      "\u001b[36m(ServeReplica:MyApp:runner pid=91500)\u001b[0m INFO 2024-07-16 21:25:21,103 MyApp_runner vco8sbup 471b19fb-0a25-4d68-b35d-493172fe15ef replica.py:373 - AINVOKE OK 80.6ms\n"
     ]
    },
    {
     "name": "stdout",
     "output_type": "stream",
     "text": [
      "\u001b[36m(ServeReplica:MyApp:main_agent pid=91499)\u001b[0m \u001b[36;1m\u001b[1;3m\n",
      "\u001b[36m(ServeReplica:MyApp:main_agent pid=91499)\u001b[0m  > Running node: main_agent\n",
      "\u001b[36m(ServeReplica:MyApp:main_agent pid=91499)\u001b[0m \u001b[0m\n",
      "\u001b[36m(ServeReplica:MyApp:main_agent pid=91499)\u001b[0m \u001b[33;1m\u001b[1;3m\tInput: Tool 1 has been triggered.\n",
      "\u001b[36m(ServeReplica:MyApp:main_agent pid=91499)\u001b[0m \u001b[0m\n",
      "\u001b[36m(ServeReplica:MyApp:main_agent pid=91499)\u001b[0m \u001b[32;1m\u001b[1;3m\tOutput (main_agent): {\n",
      "\u001b[36m(ServeReplica:MyApp:main_agent pid=91499)\u001b[0m   \"content\": \"Hello! I was provided with some tool outputs: Tool 1 has been triggered.\",\n",
      "\u001b[36m(ServeReplica:MyApp:main_agent pid=91499)\u001b[0m   \"action\": \"respond\",\n",
      "\u001b[36m(ServeReplica:MyApp:main_agent pid=91499)\u001b[0m   \"ref\": null\n",
      "\u001b[36m(ServeReplica:MyApp:main_agent pid=91499)\u001b[0m }\u001b[0m\n",
      "\u001b[36m(ServeReplica:MyApp:runner pid=91500)\u001b[0m \u001b[32;1m\u001b[1;3m\tOutput (ConditionalBranch(tool1 | Tool2)): {\n",
      "\u001b[36m(ServeReplica:MyApp:runner pid=91500)\u001b[0m   \"content\": \"Tool 1 has been triggered.\",\n",
      "\u001b[36m(ServeReplica:MyApp:runner pid=91500)\u001b[0m   \"action\": null,\n",
      "\u001b[36m(ServeReplica:MyApp:runner pid=91500)\u001b[0m }\u001b[0m\n"
     ]
    },
    {
     "name": "stderr",
     "output_type": "stream",
     "text": [
      "\u001b[36m(ServeReplica:MyApp:main_agent pid=91499)\u001b[0m INFO 2024-07-16 21:25:38,421 MyApp_main_agent w51irvql 381ebe23-47f4-4058-a2cd-42abcc1e4957 replica.py:373 - AINVOKE OK 1.7ms\n",
      "\u001b[36m(ServeReplica:MyApp:runner pid=91501)\u001b[0m INFO 2024-07-16 21:25:38,421 MyApp_runner 66wygpf1 381ebe23-47f4-4058-a2cd-42abcc1e4957 replica.py:373 - AINVOKE OK 25.5ms\n",
      "\u001b[36m(ServeReplica:MyApp:tool1 pid=91497)\u001b[0m INFO 2024-07-16 21:25:38,416 MyApp_tool1 g01z60ub 381ebe23-47f4-4058-a2cd-42abcc1e4957 replica.py:373 - INVOKE OK 2.4ms\n"
     ]
    },
    {
     "name": "stdout",
     "output_type": "stream",
     "text": [
      "\u001b[36m(ServeReplica:MyApp:runner pid=91501)\u001b[0m \u001b[36;1m\u001b[1;3m\n",
      "\u001b[36m(ServeReplica:MyApp:runner pid=91501)\u001b[0m  > Running node: ConditionalBranch(tool1 | Tool2)\n",
      "\u001b[36m(ServeReplica:MyApp:runner pid=91501)\u001b[0m \u001b[0m\n",
      "\u001b[36m(ServeReplica:MyApp:runner pid=91501)\u001b[0m \u001b[33;1m\u001b[1;3m\tInput: blue!\n",
      "\u001b[36m(ServeReplica:MyApp:runner pid=91501)\u001b[0m \u001b[0m\n",
      "\u001b[36m(ServeReplica:MyApp:runner pid=91501)\u001b[0m \u001b[32;1m\u001b[1;3m\tOutput (ConditionalBranch(tool1 | Tool2)): {\n",
      "\u001b[36m(ServeReplica:MyApp:runner pid=91501)\u001b[0m   \"content\": \"Tool 1 has been triggered.\",\n",
      "\u001b[36m(ServeReplica:MyApp:runner pid=91501)\u001b[0m   \"action\": null,\n",
      "\u001b[36m(ServeReplica:MyApp:runner pid=91501)\u001b[0m   \"ref\": null\n",
      "\u001b[36m(ServeReplica:MyApp:runner pid=91501)\u001b[0m }\u001b[0m\n",
      "\u001b[36m(ServeReplica:MyApp:main_agent pid=91499)\u001b[0m \u001b[36;1m\u001b[1;3m\n",
      "\u001b[36m(ServeReplica:MyApp:main_agent pid=91499)\u001b[0m  > Running node: main_agent\n",
      "\u001b[36m(ServeReplica:MyApp:main_agent pid=91499)\u001b[0m \u001b[0m\n",
      "\u001b[36m(ServeReplica:MyApp:main_agent pid=91499)\u001b[0m \u001b[33;1m\u001b[1;3m\tInput: Tool 1 has been triggered.\n",
      "\u001b[36m(ServeReplica:MyApp:main_agent pid=91499)\u001b[0m \u001b[0m\n",
      "\u001b[36m(ServeReplica:MyApp:main_agent pid=91499)\u001b[0m \u001b[32;1m\u001b[1;3m\tOutput (main_agent): {\n",
      "\u001b[36m(ServeReplica:MyApp:main_agent pid=91499)\u001b[0m   \"content\": \"Hello! I was provided with some tool outputs: Tool 1 has been triggered.\",\n",
      "\u001b[36m(ServeReplica:MyApp:main_agent pid=91499)\u001b[0m   \"action\": \"respond\",\n",
      "\u001b[36m(ServeReplica:MyApp:main_agent pid=91499)\u001b[0m }\u001b[0m\n",
      "\u001b[36m(ServeReplica:MyApp:runner pid=91500)\u001b[0m \u001b[36;1m\u001b[1;3m\n",
      "\u001b[36m(ServeReplica:MyApp:runner pid=91500)\u001b[0m \u001b[0m\n",
      "\u001b[36m(ServeReplica:MyApp:runner pid=91500)\u001b[0m \u001b[33;1m\u001b[1;3m\tInput: blue\n",
      "\u001b[36m(ServeReplica:MyApp:runner pid=91500)\u001b[0m \u001b[0m\n",
      "\u001b[36m(ServeReplica:MyApp:runner pid=91500)\u001b[0m }\u001b[0m\n",
      "\u001b[36m(ServeReplica:MyApp:runner pid=91500)\u001b[0m  > Running node: ConditionalBranch(tool1 | Tool2)\n",
      "\u001b[36m(ServeReplica:MyApp:runner pid=91500)\u001b[0m \u001b[32;1m\u001b[1;3m\tOutput (ConditionalBranch(tool1 | Tool2)): {\n",
      "\u001b[36m(ServeReplica:MyApp:runner pid=91500)\u001b[0m   \"content\": \"Tool 1 has been triggered.\",\n",
      "\u001b[36m(ServeReplica:MyApp:runner pid=91500)\u001b[0m   \"action\": null,\n",
      "\u001b[36m(ServeReplica:MyApp:runner pid=91500)\u001b[0m   \"ref\": null\u001b[32m [repeated 2x across cluster]\u001b[0m\n"
     ]
    },
    {
     "name": "stdout",
     "output_type": "stream",
     "text": [
      "\u001b[36m(ServeReplica:MyApp:main_agent pid=91499)\u001b[0m \u001b[36;1m\u001b[1;3m\n",
      "\u001b[36m(ServeReplica:MyApp:main_agent pid=91499)\u001b[0m  > Running node: main_agent\n",
      "\u001b[36m(ServeReplica:MyApp:main_agent pid=91499)\u001b[0m \u001b[0m\n",
      "\u001b[36m(ServeReplica:MyApp:main_agent pid=91499)\u001b[0m \u001b[33;1m\u001b[1;3m\tInput: Tool 1 has been triggered.\n",
      "\u001b[36m(ServeReplica:MyApp:main_agent pid=91499)\u001b[0m \u001b[0m\n",
      "\u001b[36m(ServeReplica:MyApp:main_agent pid=91499)\u001b[0m \u001b[32;1m\u001b[1;3m\tOutput (main_agent): {\n",
      "\u001b[36m(ServeReplica:MyApp:main_agent pid=91499)\u001b[0m   \"content\": \"Hello! I was provided with some tool outputs: Tool 1 has been triggered.\",\n",
      "\u001b[36m(ServeReplica:MyApp:main_agent pid=91499)\u001b[0m   \"action\": \"respond\",\n",
      "\u001b[36m(ServeReplica:MyApp:main_agent pid=91499)\u001b[0m   \"ref\": null\n",
      "\u001b[36m(ServeReplica:MyApp:main_agent pid=91499)\u001b[0m }\u001b[0m\n"
     ]
    }
   ],
   "source": [
    "from ray import serve\n",
    "\n",
    "# we can now serve it using Ray Serve\n",
    "\n",
    "app = serve.run(runner, name=\"MyApp\")"
   ]
  },
  {
   "cell_type": "code",
   "execution_count": 8,
   "metadata": {},
   "outputs": [
    {
     "name": "stdout",
     "output_type": "stream",
     "text": [
      "proxies:\n",
      "  6f0d1b1ef00348e85c1f0ddae8575304cb220b0be8ab9e1830a73ea7: HEALTHY\n",
      "applications:\n",
      "  default:\n",
      "    status: RUNNING\n",
      "    message: ''\n",
      "    last_deployed_time_s: 1721160715.955894\n",
      "    deployments:\n",
      "      legal_researcher:\n",
      "        status: HEALTHY\n",
      "        status_trigger: CONFIG_UPDATE_COMPLETED\n",
      "        replica_states:\n",
      "          RUNNING: 1\n",
      "        message: ''\n",
      "      search_tool:\n",
      "        status: HEALTHY\n",
      "        status_trigger: CONFIG_UPDATE_COMPLETED\n",
      "        replica_states:\n",
      "          RUNNING: 1\n",
      "        message: ''\n",
      "      runner:\n",
      "        status: HEALTHY\n",
      "        status_trigger: CONFIG_UPDATE_COMPLETED\n",
      "        replica_states:\n",
      "          RUNNING: 1\n",
      "        message: ''\n",
      "target_capacity: null\n",
      "\u001b[0m"
     ]
    }
   ],
   "source": [
    "!serve status"
   ]
  },
  {
   "cell_type": "code",
   "execution_count": 13,
   "metadata": {},
   "outputs": [
    {
     "name": "stderr",
     "output_type": "stream",
     "text": [
      "2024-07-16 21:25:38,390\tINFO handle.py:126 -- Created DeploymentHandle 'r2x2vae9' for Deployment(name='runner', app='MyApp').\n"
     ]
    },
    {
     "data": {
      "text/plain": [
       "NodeOutput(content='Hello! I was provided with some tool outputs: Tool 1 has been triggered.', action='respond', ref=None)"
      ]
     },
     "execution_count": 13,
     "metadata": {},
     "output_type": "execute_result"
    }
   ],
   "source": [
    "result = await app.ainvoke.remote(\"blue!\")\n",
    "result"
   ]
  },
  {
   "cell_type": "code",
   "execution_count": 14,
   "metadata": {},
   "outputs": [
    {
     "name": "stdout",
     "output_type": "stream",
     "text": [
      "{\"content\":\"Hello! I was provided with some tool outputs: Tool 1 has been triggered.\",\"action\":\"respond\",\"ref\":null}\n"
     ]
    },
    {
     "name": "stderr",
     "output_type": "stream",
     "text": [
      "\u001b[36m(ServeReplica:MyApp:tool1 pid=91496)\u001b[0m INFO 2024-07-16 21:25:47,913 MyApp_tool1 847ttylr b1d229ab-9b55-4cdc-9c0f-f62096462904 /invoke replica.py:373 - INVOKE OK 7.4ms\n",
      "\u001b[36m(ServeReplica:MyApp:main_agent pid=91499)\u001b[0m INFO 2024-07-16 21:25:47,946 MyApp_main_agent w51irvql b1d229ab-9b55-4cdc-9c0f-f62096462904 /invoke replica.py:373 - AINVOKE OK 4.8ms\n",
      "\u001b[36m(ServeReplica:MyApp:runner pid=91500)\u001b[0m INFO 2024-07-16 21:25:47,951 MyApp_runner vco8sbup b1d229ab-9b55-4cdc-9c0f-f62096462904 /invoke replica.py:373 - __CALL__ OK 58.0ms\n"
     ]
    }
   ],
   "source": [
    "# we can also interact with the application via REST\n",
    "\n",
    "import requests\n",
    "\n",
    "response = requests.post(\"http://localhost:8000/invoke\", data=\"blue\")\n",
    "\n",
    "print(response.text)"
   ]
  },
  {
   "cell_type": "code",
   "execution_count": null,
   "metadata": {},
   "outputs": [],
   "source": []
  }
 ],
 "metadata": {
  "kernelspec": {
   "display_name": "tinyagents-JQO3J91T-py3.11",
   "language": "python",
   "name": "python3"
  },
  "language_info": {
   "codemirror_mode": {
    "name": "ipython",
    "version": 3
   },
   "file_extension": ".py",
   "mimetype": "text/x-python",
   "name": "python",
   "nbconvert_exporter": "python",
   "pygments_lexer": "ipython3",
   "version": "3.11.5"
  }
 },
 "nbformat": 4,
 "nbformat_minor": 2
}
