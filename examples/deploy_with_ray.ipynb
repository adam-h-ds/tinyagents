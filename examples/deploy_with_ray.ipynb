{
 "cells": [
  {
   "cell_type": "code",
   "execution_count": 1,
   "metadata": {},
   "outputs": [
    {
     "name": "stderr",
     "output_type": "stream",
     "text": [
      "/Users/adamhedib/Library/Caches/pypoetry/virtualenvs/tinyagents-JQO3J91T-py3.11/lib/python3.11/site-packages/tqdm/auto.py:21: TqdmWarning: IProgress not found. Please update jupyter and ipywidgets. See https://ipywidgets.readthedocs.io/en/stable/user_install.html\n",
      "  from .autonotebook import tqdm as notebook_tqdm\n",
      "2024-10-17 09:19:37,128\tINFO util.py:154 -- Missing packages: ['ipywidgets']. Run `pip install -U ipywidgets`, then restart the notebook server for rich notebook output.\n",
      "2024-10-17 09:19:37,786\tWARNING api.py:346 -- The default value for `max_ongoing_requests` has changed from 100 to 5 in Ray 2.32.0.\n",
      "2024-10-17 09:19:37,787\tWARNING api.py:397 -- The default value for `max_ongoing_requests` has changed from 100 to 5 in Ray 2.32.0.\n"
     ]
    }
   ],
   "source": [
    "from tinyagents import chainable, respond\n",
    "\n",
    "@chainable(\n",
    "    node_name=\"main_agent\",\n",
    "    ray_options={\n",
    "        \"num_replicas\": 2\n",
    "    }\n",
    ")\n",
    "class Agent:\n",
    "    name: str = \"main_agent\"\n",
    "\n",
    "    def __init__(self):\n",
    "        pass\n",
    "\n",
    "    def run(self, inputs: str):\n",
    "        return \"Hello! I was provided with some tool outputs: \" + str(inputs)\n",
    "    \n",
    "    def output_handler(self, output):\n",
    "        return respond(output)\n",
    "\n",
    "@chainable(\n",
    "    node_name=\"tool1\",\n",
    "    ray_options={\n",
    "        \"num_replicas\": 1\n",
    "    }\n",
    ")\n",
    "class Tool1:\n",
    "    def run(self, inputs):\n",
    "        return \"Tool 1 has been triggered.\"\n",
    "\n",
    "@chainable(\n",
    "    node_name=\"tool2\",\n",
    "    ray_options={\n",
    "        \"num_replicas\": 1\n",
    "    }\n",
    ")\n",
    "class Tool2:\n",
    "    def run(self, inputs):\n",
    "        return f\"Tool 2 has been triggered.\""
   ]
  },
  {
   "cell_type": "code",
   "execution_count": 2,
   "metadata": {},
   "outputs": [
    {
     "data": {
      "text/plain": [
       "ConditionalBranch(tool1, tool2)"
      ]
     },
     "execution_count": 2,
     "metadata": {},
     "output_type": "execute_result"
    }
   ],
   "source": [
    "branch1 = Tool1() / Tool2()\n",
    "\n",
    "def branch_router(inputs) -> str:\n",
    "    if inputs.startswith(\"blue\"):\n",
    "        return Tool1.name\n",
    "    \n",
    "    return Tool2.name\n",
    "    \n",
    "branch1.bind_router(branch_router)"
   ]
  },
  {
   "cell_type": "code",
   "execution_count": 3,
   "metadata": {},
   "outputs": [
    {
     "data": {
      "text/plain": [
       "'ConditionalBranch(tool1, tool2) -> main_agent'"
      ]
     },
     "execution_count": 3,
     "metadata": {},
     "output_type": "execute_result"
    }
   ],
   "source": [
    "graph = branch1 | Agent()\n",
    "str(graph)"
   ]
  },
  {
   "cell_type": "code",
   "execution_count": 4,
   "metadata": {},
   "outputs": [
    {
     "name": "stdout",
     "output_type": "stream",
     "text": [
      "blue!\n",
      "\u001b[36;1m\u001b[1;3m\n",
      " > Running node: conditional_branch_tool1-tool2\n",
      "\u001b[0m\n",
      "\u001b[33;1m\u001b[1;3m\tInput: blue!\n",
      "\u001b[0m\n",
      "\u001b[36;1m\u001b[1;3m\n",
      " > Running node: tool1\n",
      "\u001b[0m\n",
      "\u001b[33;1m\u001b[1;3m\tInput: blue!\n",
      "\u001b[0m\n",
      "\u001b[32;1m\u001b[1;3m\tOutput (tool1): {\n",
      "  \"content\": \"Tool 1 has been triggered.\",\n",
      "  \"action\": null,\n",
      "  \"ref\": null\n",
      "}\u001b[0m\n",
      "\u001b[32;1m\u001b[1;3m\tOutput (conditional_branch_tool1-tool2): {\n",
      "  \"content\": \"Tool 1 has been triggered.\",\n",
      "  \"action\": null,\n",
      "  \"ref\": null\n",
      "}\u001b[0m\n",
      "\u001b[36;1m\u001b[1;3m\n",
      " > Running node: main_agent\n",
      "\u001b[0m\n",
      "\u001b[33;1m\u001b[1;3m\tInput: Tool 1 has been triggered.\n",
      "\u001b[0m\n",
      "\u001b[32;1m\u001b[1;3m\tOutput (main_agent): {\n",
      "  \"content\": \"Hello! I was provided with some tool outputs: Tool 1 has been triggered.\",\n",
      "  \"action\": \"respond\",\n",
      "  \"ref\": null\n",
      "}\u001b[0m\n"
     ]
    },
    {
     "data": {
      "text/plain": [
       "'Hello! I was provided with some tool outputs: Tool 1 has been triggered.'"
      ]
     },
     "execution_count": 4,
     "metadata": {},
     "output_type": "execute_result"
    }
   ],
   "source": [
    "# Run without using Ray\n",
    "runner = graph.compile()\n",
    "inputs = \"blue!\"\n",
    "y = await runner.ainvoke(inputs)\n",
    "y"
   ]
  },
  {
   "cell_type": "code",
   "execution_count": 5,
   "metadata": {},
   "outputs": [
    {
     "name": "stdout",
     "output_type": "stream",
     "text": [
      "\u001b[36;1m\u001b[1;3m\n",
      " > Running node: conditional_branch_tool1-tool2\n",
      "\u001b[0m\n",
      "\u001b[33;1m\u001b[1;3m\tInput: yellow!\n",
      "\u001b[0m\n",
      "\u001b[36;1m\u001b[1;3m\n",
      " > Running node: tool2\n",
      "\u001b[0m\n",
      "\u001b[33;1m\u001b[1;3m\tInput: yellow!\n",
      "\u001b[0m\n",
      "\u001b[32;1m\u001b[1;3m\tOutput (tool2): {\n",
      "  \"content\": \"Tool 2 has been triggered.\",\n",
      "  \"action\": null,\n",
      "  \"ref\": null\n",
      "}\u001b[0m\n",
      "\u001b[32;1m\u001b[1;3m\tOutput (conditional_branch_tool1-tool2): {\n",
      "  \"content\": \"Tool 2 has been triggered.\",\n",
      "  \"action\": null,\n",
      "  \"ref\": null\n",
      "}\u001b[0m\n",
      "\u001b[36;1m\u001b[1;3m\n",
      " > Running node: main_agent\n",
      "\u001b[0m\n",
      "\u001b[33;1m\u001b[1;3m\tInput: Tool 2 has been triggered.\n",
      "\u001b[0m\n",
      "\u001b[32;1m\u001b[1;3m\tOutput (main_agent): {\n",
      "  \"content\": \"Hello! I was provided with some tool outputs: Tool 2 has been triggered.\",\n",
      "  \"action\": \"respond\",\n",
      "  \"ref\": null\n",
      "}\u001b[0m\n"
     ]
    },
    {
     "data": {
      "text/plain": [
       "'Hello! I was provided with some tool outputs: Tool 2 has been triggered.'"
      ]
     },
     "execution_count": 5,
     "metadata": {},
     "output_type": "execute_result"
    }
   ],
   "source": [
    "runner.invoke(\"yellow!\")"
   ]
  },
  {
   "cell_type": "code",
   "execution_count": 6,
   "metadata": {},
   "outputs": [
    {
     "name": "stderr",
     "output_type": "stream",
     "text": [
      "2024-10-17 09:19:46,584\tWARNING api.py:346 -- The default value for `max_ongoing_requests` has changed from 100 to 5 in Ray 2.32.0.\n",
      "2024-10-17 09:19:46,585\tWARNING api.py:397 -- The default value for `max_ongoing_requests` has changed from 100 to 5 in Ray 2.32.0.\n",
      "2024-10-17 09:19:46,587\tWARNING api.py:346 -- The default value for `max_ongoing_requests` has changed from 100 to 5 in Ray 2.32.0.\n",
      "2024-10-17 09:19:46,589\tWARNING api.py:397 -- The default value for `max_ongoing_requests` has changed from 100 to 5 in Ray 2.32.0.\n",
      "2024-10-17 09:19:46,591\tWARNING api.py:346 -- The default value for `max_ongoing_requests` has changed from 100 to 5 in Ray 2.32.0.\n",
      "2024-10-17 09:19:46,592\tWARNING api.py:397 -- The default value for `max_ongoing_requests` has changed from 100 to 5 in Ray 2.32.0.\n"
     ]
    },
    {
     "data": {
      "text/plain": [
       "<ray.serve.deployment.Application at 0x139089450>"
      ]
     },
     "execution_count": 6,
     "metadata": {},
     "output_type": "execute_result"
    }
   ],
   "source": [
    "# Run using Ray\n",
    "runner = graph.compile(use_ray=True, verbose=False)\n",
    "runner"
   ]
  },
  {
   "cell_type": "code",
   "execution_count": 7,
   "metadata": {},
   "outputs": [
    {
     "name": "stderr",
     "output_type": "stream",
     "text": [
      "2024-10-17 09:19:48,029\tINFO worker.py:1772 -- Started a local Ray instance. View the dashboard at \u001b[1m\u001b[32mhttp://127.0.0.1:8265 \u001b[39m\u001b[22m\n",
      "2024-10-17 09:19:49,948\tINFO handle.py:126 -- Created DeploymentHandle '4e3fci5j' for Deployment(name='tool1', app='my_application').\n",
      "2024-10-17 09:19:49,948\tINFO handle.py:126 -- Created DeploymentHandle 'zxgr5fl1' for Deployment(name='tool2', app='my_application').\n",
      "2024-10-17 09:19:49,949\tINFO handle.py:126 -- Created DeploymentHandle 't4qrxibn' for Deployment(name='main_agent', app='my_application').\n",
      "2024-10-17 09:19:49,949\tINFO handle.py:126 -- Created DeploymentHandle 'gwoswrgg' for Deployment(name='tool1', app='my_application').\n",
      "2024-10-17 09:19:49,950\tINFO handle.py:126 -- Created DeploymentHandle 'f1cf4at1' for Deployment(name='tool2', app='my_application').\n",
      "2024-10-17 09:19:49,950\tINFO handle.py:126 -- Created DeploymentHandle '71amo9vj' for Deployment(name='main_agent', app='my_application').\n",
      "2024-10-17 09:19:49,951\tINFO handle.py:126 -- Created DeploymentHandle 'r6hxbaob' for Deployment(name='runner', app='my_application').\n",
      "2024-10-17 09:19:49,951\tINFO handle.py:126 -- Created DeploymentHandle 'pfqtu908' for Deployment(name='tool1', app='my_application').\n",
      "2024-10-17 09:19:49,951\tINFO handle.py:126 -- Created DeploymentHandle 'dy9tdt49' for Deployment(name='tool2', app='my_application').\n",
      "2024-10-17 09:19:49,952\tINFO handle.py:126 -- Created DeploymentHandle '8fnd86od' for Deployment(name='main_agent', app='my_application').\n",
      "2024-10-17 09:19:49,952\tINFO handle.py:126 -- Created DeploymentHandle 'mi07k2kj' for Deployment(name='runner', app='my_application').\n",
      "\u001b[36m(ProxyActor pid=32673)\u001b[0m INFO 2024-10-17 09:19:49,925 proxy 127.0.0.1 proxy.py:1179 - Proxy starting on node 621cd835144bc39d9aa0e8a551edb67cb5a896d1d10f011b7b6f7cf4 (HTTP port: 8000).\n",
      "\u001b[36m(ServeController pid=32671)\u001b[0m INFO 2024-10-17 09:19:50,028 controller 32671 deployment_state.py:1598 - Deploying new version of Deployment(name='tool1', app='my_application') (initial target replicas: 1).\n",
      "\u001b[36m(ServeController pid=32671)\u001b[0m INFO 2024-10-17 09:19:50,028 controller 32671 deployment_state.py:1598 - Deploying new version of Deployment(name='tool2', app='my_application') (initial target replicas: 1).\n",
      "\u001b[36m(ServeController pid=32671)\u001b[0m INFO 2024-10-17 09:19:50,029 controller 32671 deployment_state.py:1598 - Deploying new version of Deployment(name='main_agent', app='my_application') (initial target replicas: 2).\n",
      "\u001b[36m(ServeController pid=32671)\u001b[0m INFO 2024-10-17 09:19:50,030 controller 32671 deployment_state.py:1598 - Deploying new version of Deployment(name='runner', app='my_application') (initial target replicas: 1).\n",
      "\u001b[36m(ServeController pid=32671)\u001b[0m INFO 2024-10-17 09:19:50,135 controller 32671 deployment_state.py:1844 - Adding 1 replica to Deployment(name='tool1', app='my_application').\n",
      "\u001b[36m(ServeController pid=32671)\u001b[0m INFO 2024-10-17 09:19:50,140 controller 32671 deployment_state.py:1844 - Adding 1 replica to Deployment(name='tool2', app='my_application').\n",
      "\u001b[36m(ServeController pid=32671)\u001b[0m INFO 2024-10-17 09:19:50,141 controller 32671 deployment_state.py:1844 - Adding 2 replicas to Deployment(name='main_agent', app='my_application').\n",
      "\u001b[36m(ServeController pid=32671)\u001b[0m INFO 2024-10-17 09:19:50,142 controller 32671 deployment_state.py:1844 - Adding 1 replica to Deployment(name='runner', app='my_application').\n",
      "\u001b[36m(ServeReplica:my_application:tool1 pid=32675)\u001b[0m WARNING 2024-10-17 09:19:51,264 my_application_tool1 mp0j7vsa api.py:346 - The default value for `max_ongoing_requests` has changed from 100 to 5 in Ray 2.32.0.\n",
      "\u001b[36m(ServeReplica:my_application:tool1 pid=32675)\u001b[0m WARNING 2024-10-17 09:19:51,264 my_application_tool1 mp0j7vsa api.py:397 - The default value for `max_ongoing_requests` has changed from 100 to 5 in Ray 2.32.0.\n",
      "\u001b[36m(ServeReplica:my_application:main_agent pid=32677)\u001b[0m WARNING 2024-10-17 09:19:51,278 my_application_main_agent e9tf3qs6 api.py:346 - The default value for `max_ongoing_requests` has changed from 100 to 5 in Ray 2.32.0.\n",
      "\u001b[36m(ServeReplica:my_application:main_agent pid=32677)\u001b[0m WARNING 2024-10-17 09:19:51,279 my_application_main_agent e9tf3qs6 api.py:397 - The default value for `max_ongoing_requests` has changed from 100 to 5 in Ray 2.32.0.\n",
      "\u001b[36m(ServeReplica:my_application:runner pid=32679)\u001b[0m WARNING 2024-10-17 09:19:51,331 my_application_runner 04ga38ej api.py:346 - The default value for `max_ongoing_requests` has changed from 100 to 5 in Ray 2.32.0.\n",
      "\u001b[36m(ServeReplica:my_application:runner pid=32679)\u001b[0m WARNING 2024-10-17 09:19:51,331 my_application_runner 04ga38ej api.py:397 - The default value for `max_ongoing_requests` has changed from 100 to 5 in Ray 2.32.0.\n",
      "2024-10-17 09:19:51,966\tINFO handle.py:126 -- Created DeploymentHandle '2s85j4s8' for Deployment(name='runner', app='my_application').\n",
      "2024-10-17 09:19:51,967\tINFO api.py:574 -- Deployed app 'my_application' successfully.\n"
     ]
    },
    {
     "name": "stderr",
     "output_type": "stream",
     "text": [
      "\u001b[36m(ServeReplica:my_application:tool1 pid=32675)\u001b[0m INFO 2024-10-17 09:19:53,962 my_application_tool1 mp0j7vsa 5155d006-c883-4ca4-aa20-ad8eafd89ed7 replica.py:373 - AINVOKE OK 1.6ms\n",
      "\u001b[36m(ServeReplica:my_application:main_agent pid=32677)\u001b[0m INFO 2024-10-17 09:19:53,974 my_application_main_agent e9tf3qs6 5155d006-c883-4ca4-aa20-ad8eafd89ed7 replica.py:373 - AINVOKE OK 1.8ms\n",
      "\u001b[36m(ServeReplica:my_application:runner pid=32679)\u001b[0m INFO 2024-10-17 09:19:53,974 my_application_runner 04ga38ej 5155d006-c883-4ca4-aa20-ad8eafd89ed7 replica.py:373 - AINVOKE OK 57.3ms\n",
      "\u001b[36m(ServeReplica:my_application:tool2 pid=32676)\u001b[0m INFO 2024-10-17 09:20:04,523 my_application_tool2 pco21ch0 13a82d12-a956-4d6b-8ea2-429a7a945312 replica.py:373 - AINVOKE OK 2.3ms\n",
      "\u001b[36m(ServeReplica:my_application:runner pid=32679)\u001b[0m INFO 2024-10-17 09:20:04,535 my_application_runner 04ga38ej 13a82d12-a956-4d6b-8ea2-429a7a945312 replica.py:373 - AINVOKE OK 29.2ms\n",
      "\u001b[36m(ServeReplica:my_application:main_agent pid=32678)\u001b[0m INFO 2024-10-17 09:20:04,534 my_application_main_agent h4jwgl8f 13a82d12-a956-4d6b-8ea2-429a7a945312 replica.py:373 - AINVOKE OK 2.1ms\n"
     ]
    },
    {
     "name": "stdout",
     "output_type": "stream",
     "text": [
      "\u001b[36m(ServeReplica:my_application:runner pid=32679)\u001b[0m yellow!\n",
      "\u001b[36m(ServeReplica:my_application:runner pid=32679)\u001b[0m blue\n"
     ]
    },
    {
     "name": "stderr",
     "output_type": "stream",
     "text": [
      "\u001b[36m(ServeReplica:my_application:tool1 pid=32675)\u001b[0m INFO 2024-10-17 09:20:12,043 my_application_tool1 mp0j7vsa 3069347b-4e5a-429f-804c-6d12b3b9c059 / replica.py:373 - AINVOKE OK 1.7ms\n",
      "\u001b[36m(ServeReplica:my_application:main_agent pid=32677)\u001b[0m INFO 2024-10-17 09:20:12,047 my_application_main_agent e9tf3qs6 3069347b-4e5a-429f-804c-6d12b3b9c059 / replica.py:373 - AINVOKE OK 1.7ms\n",
      "\u001b[36m(ServeReplica:my_application:runner pid=32679)\u001b[0m INFO 2024-10-17 09:20:12,048 my_application_runner 04ga38ej 3069347b-4e5a-429f-804c-6d12b3b9c059 / replica.py:373 - __CALL__ OK 11.7ms\n"
     ]
    }
   ],
   "source": [
    "from ray import serve\n",
    "\n",
    "# we can now serve it using Ray Serve\n",
    "\n",
    "app = serve.run(runner, name=\"my_application\")"
   ]
  },
  {
   "cell_type": "code",
   "execution_count": 8,
   "metadata": {},
   "outputs": [
    {
     "name": "stdout",
     "output_type": "stream",
     "text": [
      "proxies:\n",
      "  621cd835144bc39d9aa0e8a551edb67cb5a896d1d10f011b7b6f7cf4: HEALTHY\n",
      "applications:\n",
      "  my_application:\n",
      "    status: RUNNING\n",
      "    message: ''\n",
      "    last_deployed_time_s: 1729153189.953881\n",
      "    deployments:\n",
      "      tool1:\n",
      "        status: HEALTHY\n",
      "        status_trigger: CONFIG_UPDATE_COMPLETED\n",
      "        replica_states:\n",
      "          RUNNING: 1\n",
      "        message: ''\n",
      "      tool2:\n",
      "        status: HEALTHY\n",
      "        status_trigger: CONFIG_UPDATE_COMPLETED\n",
      "        replica_states:\n",
      "          RUNNING: 1\n",
      "        message: ''\n",
      "      main_agent:\n",
      "        status: HEALTHY\n",
      "        status_trigger: CONFIG_UPDATE_COMPLETED\n",
      "        replica_states:\n",
      "          RUNNING: 2\n",
      "        message: ''\n",
      "      runner:\n",
      "        status: HEALTHY\n",
      "        status_trigger: CONFIG_UPDATE_COMPLETED\n",
      "        replica_states:\n",
      "          RUNNING: 1\n",
      "        message: ''\n",
      "target_capacity: null\n",
      "\u001b[0m"
     ]
    }
   ],
   "source": [
    "!serve status"
   ]
  },
  {
   "cell_type": "code",
   "execution_count": 10,
   "metadata": {},
   "outputs": [
    {
     "name": "stderr",
     "output_type": "stream",
     "text": [
      "2024-10-17 09:20:04,490\tINFO handle.py:126 -- Created DeploymentHandle '6vyqrcod' for Deployment(name='runner', app='my_application').\n"
     ]
    },
    {
     "data": {
      "text/plain": [
       "'Hello! I was provided with some tool outputs: Tool 2 has been triggered.'"
      ]
     },
     "execution_count": 10,
     "metadata": {},
     "output_type": "execute_result"
    }
   ],
   "source": [
    "result = await app.ainvoke.remote(\"yellow!\")\n",
    "result"
   ]
  },
  {
   "cell_type": "code",
   "execution_count": 11,
   "metadata": {},
   "outputs": [
    {
     "name": "stdout",
     "output_type": "stream",
     "text": [
      "Hello! I was provided with some tool outputs: Tool 1 has been triggered.\n"
     ]
    }
   ],
   "source": [
    "# we can also interact with the application via REST\n",
    "\n",
    "import requests\n",
    "\n",
    "response = requests.post(\"http://localhost:8000/\", data=\"blue\")\n",
    "\n",
    "print(response.text)"
   ]
  }
 ],
 "metadata": {
  "kernelspec": {
   "display_name": "tinyagents-JQO3J91T-py3.11",
   "language": "python",
   "name": "python3"
  },
  "language_info": {
   "codemirror_mode": {
    "name": "ipython",
    "version": 3
   },
   "file_extension": ".py",
   "mimetype": "text/x-python",
   "name": "python",
   "nbconvert_exporter": "python",
   "pygments_lexer": "ipython3",
   "version": "3.11.5"
  }
 },
 "nbformat": 4,
 "nbformat_minor": 2
}
