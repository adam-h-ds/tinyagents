{
 "cells": [
  {
   "cell_type": "code",
   "execution_count": null,
   "metadata": {},
   "outputs": [],
   "source": [
    "from tinyagents import chainable, respond\n",
    "\n",
    "@chainable\n",
    "class Agent:\n",
    "    name: str = \"main_agent\"\n",
    "\n",
    "    def __init__(self):\n",
    "        pass\n",
    "\n",
    "    def run(self, input: str):\n",
    "        return \"Hello! I was provided with some tool outputs: \" + str(input)\n",
    "    \n",
    "    def output_handler(self, output):\n",
    "        return respond(output)\n",
    "\n",
    "@chainable\n",
    "class Tool1:\n",
    "    \"\"\" Some tool \"\"\"\n",
    "    name: str = \"tool1\"\n",
    "\n",
    "    def run(self, input):\n",
    "        return \"Tool 1 has been triggered.\"\n",
    "\n",
    "@chainable\n",
    "class Tool2:\n",
    "    name: str = \"tool2\"\n",
    "    \n",
    "    \"\"\" Some other tool \"\"\"\n",
    "    def __init__(self, phrase: str):\n",
    "        self.phrase = phrase\n",
    "\n",
    "    def run(self, input):\n",
    "        return f\"Tool 2 has been {self.phrase}.\""
   ]
  },
  {
   "cell_type": "code",
   "execution_count": 2,
   "metadata": {},
   "outputs": [
    {
     "data": {
      "text/plain": [
       "ConditionalBranch(tool1 | tool2)"
      ]
     },
     "execution_count": 2,
     "metadata": {},
     "output_type": "execute_result"
    }
   ],
   "source": [
    "branch1 = Tool1() / Tool2(phrase=\"executed\")\n",
    "\n",
    "def router(x):\n",
    "    if x.startswith(\"blue\"):\n",
    "        return Tool1.name\n",
    "    \n",
    "    return Tool2.name\n",
    "    \n",
    "\n",
    "branch1.bind_router(router)"
   ]
  },
  {
   "cell_type": "code",
   "execution_count": 3,
   "metadata": {},
   "outputs": [
    {
     "data": {
      "text/plain": [
       "'ConditionalBranch(tool1 | tool2) -> main_agent'"
      ]
     },
     "execution_count": 3,
     "metadata": {},
     "output_type": "execute_result"
    }
   ],
   "source": [
    "graph = branch1 | Agent()\n",
    "str(graph)"
   ]
  },
  {
   "cell_type": "code",
   "execution_count": 4,
   "metadata": {},
   "outputs": [
    {
     "name": "stdout",
     "output_type": "stream",
     "text": [
      "\u001b[36;1m\u001b[1;3m\n",
      " > Running node: conditional_branch_tool1_tool2\n",
      "\u001b[0m\n",
      "\u001b[33;1m\u001b[1;3m\tInput: blue!\n",
      "\u001b[0m\n",
      "\u001b[32;1m\u001b[1;3m\tOutput (conditional_branch_tool1_tool2): {\n",
      "  \"content\": \"Tool 1 has been triggered.\",\n",
      "  \"action\": null,\n",
      "  \"ref\": null\n",
      "}\u001b[0m\n",
      "\u001b[36;1m\u001b[1;3m\n",
      " > Running node: main_agent\n",
      "\u001b[0m\n",
      "\u001b[33;1m\u001b[1;3m\tInput: Tool 1 has been triggered.\n",
      "\u001b[0m\n",
      "\u001b[32;1m\u001b[1;3m\tOutput (main_agent): {\n",
      "  \"content\": \"Hello! I was provided with some tool outputs: Tool 1 has been triggered.\",\n",
      "  \"action\": \"respond\",\n",
      "  \"ref\": null\n",
      "}\u001b[0m\n"
     ]
    },
    {
     "data": {
      "text/plain": [
       "'Hello! I was provided with some tool outputs: Tool 1 has been triggered.'"
      ]
     },
     "execution_count": 4,
     "metadata": {},
     "output_type": "execute_result"
    }
   ],
   "source": [
    "# Run without using Ray\n",
    "runner = graph.compile()\n",
    "runner.invoke(\"blue!\")"
   ]
  },
  {
   "cell_type": "code",
   "execution_count": 5,
   "metadata": {},
   "outputs": [
    {
     "name": "stdout",
     "output_type": "stream",
     "text": [
      "\u001b[36;1m\u001b[1;3m\n",
      " > Running node: conditional_branch_tool1_tool2\n",
      "\u001b[0m\n",
      "\u001b[33;1m\u001b[1;3m\tInput: yellow!\n",
      "\u001b[0m\n",
      "\u001b[32;1m\u001b[1;3m\tOutput (conditional_branch_tool1_tool2): {\n",
      "  \"content\": \"Tool 2 has been executed.\",\n",
      "  \"action\": null,\n",
      "  \"ref\": null\n",
      "}\u001b[0m\n",
      "\u001b[36;1m\u001b[1;3m\n",
      " > Running node: main_agent\n",
      "\u001b[0m\n",
      "\u001b[33;1m\u001b[1;3m\tInput: Tool 2 has been executed.\n",
      "\u001b[0m\n",
      "\u001b[32;1m\u001b[1;3m\tOutput (main_agent): {\n",
      "  \"content\": \"Hello! I was provided with some tool outputs: Tool 2 has been executed.\",\n",
      "  \"action\": \"respond\",\n",
      "  \"ref\": null\n",
      "}\u001b[0m\n"
     ]
    },
    {
     "data": {
      "text/plain": [
       "'Hello! I was provided with some tool outputs: Tool 2 has been executed.'"
      ]
     },
     "execution_count": 5,
     "metadata": {},
     "output_type": "execute_result"
    }
   ],
   "source": [
    "runner.invoke(\"yellow!\")"
   ]
  },
  {
   "cell_type": "code",
   "execution_count": 6,
   "metadata": {},
   "outputs": [
    {
     "name": "stderr",
     "output_type": "stream",
     "text": [
      "2024-07-17 20:08:24,973\tWARNING api.py:432 -- The default value for `max_ongoing_requests` has changed from 100 to 5 in Ray 2.32.0.\n",
      "2024-07-17 20:08:24,974\tWARNING api.py:432 -- The default value for `max_ongoing_requests` has changed from 100 to 5 in Ray 2.32.0.\n",
      "2024-07-17 20:08:24,975\tWARNING api.py:432 -- The default value for `max_ongoing_requests` has changed from 100 to 5 in Ray 2.32.0.\n"
     ]
    },
    {
     "data": {
      "text/plain": [
       "<ray.serve.deployment.Application at 0x10c536bd0>"
      ]
     },
     "execution_count": 6,
     "metadata": {},
     "output_type": "execute_result"
    }
   ],
   "source": [
    "# Run using Ray\n",
    "runner = graph.compile(\n",
    "    use_ray=True,\n",
    "    ray_options={\n",
    "        \"tool1\": {\n",
    "            \"num_replicas\": 1\n",
    "        },\n",
    "        \"tool2\": {\n",
    "            \"num_replicas\": 2,\n",
    "            # \"placement_group_strategy\": ... \n",
    "        },\n",
    "        \"runner\": {\n",
    "            \"num_replicas\": 2\n",
    "        }\n",
    "    }\n",
    ")\n",
    "runner"
   ]
  },
  {
   "cell_type": "code",
   "execution_count": 7,
   "metadata": {},
   "outputs": [
    {
     "name": "stderr",
     "output_type": "stream",
     "text": [
      "2024-07-17 20:08:27,175\tINFO worker.py:1779 -- Started a local Ray instance. View the dashboard at \u001b[1m\u001b[32mhttp://127.0.0.1:8266 \u001b[39m\u001b[22m\n",
      "2024-07-17 20:08:29,022\tINFO handle.py:126 -- Created DeploymentHandle 'we2seygw' for Deployment(name='tool1', app='MyApp').\n",
      "2024-07-17 20:08:29,024\tINFO handle.py:126 -- Created DeploymentHandle 'cuugga1o' for Deployment(name='tool2', app='MyApp').\n",
      "2024-07-17 20:08:29,024\tINFO handle.py:126 -- Created DeploymentHandle '3fupoifv' for Deployment(name='main_agent', app='MyApp').\n",
      "2024-07-17 20:08:29,025\tINFO handle.py:126 -- Created DeploymentHandle '0bfpml64' for Deployment(name='tool1', app='MyApp').\n",
      "2024-07-17 20:08:29,025\tINFO handle.py:126 -- Created DeploymentHandle 'q53hx4in' for Deployment(name='tool2', app='MyApp').\n",
      "2024-07-17 20:08:29,025\tINFO handle.py:126 -- Created DeploymentHandle 'rnmhl0rv' for Deployment(name='main_agent', app='MyApp').\n",
      "2024-07-17 20:08:29,027\tINFO handle.py:126 -- Created DeploymentHandle 'd7wpytme' for Deployment(name='runner', app='MyApp').\n",
      "2024-07-17 20:08:29,027\tINFO handle.py:126 -- Created DeploymentHandle 'n9ddgoji' for Deployment(name='tool1', app='MyApp').\n",
      "2024-07-17 20:08:29,027\tINFO handle.py:126 -- Created DeploymentHandle 'dl8tbq5c' for Deployment(name='tool2', app='MyApp').\n",
      "2024-07-17 20:08:29,028\tINFO handle.py:126 -- Created DeploymentHandle '33tpe5uz' for Deployment(name='main_agent', app='MyApp').\n",
      "2024-07-17 20:08:29,028\tINFO handle.py:126 -- Created DeploymentHandle '8iv6du0d' for Deployment(name='runner', app='MyApp').\n",
      "\u001b[36m(ProxyActor pid=5162)\u001b[0m INFO 2024-07-17 20:08:29,000 proxy 127.0.0.1 proxy.py:1179 - Proxy starting on node e607c36616787d02f272204e71f777fdeef99d72b77005ca1cea733e (HTTP port: 8000).\n",
      "\u001b[36m(ServeController pid=5161)\u001b[0m INFO 2024-07-17 20:08:29,091 controller 5161 deployment_state.py:1598 - Deploying new version of Deployment(name='tool1', app='MyApp') (initial target replicas: 1).\n",
      "\u001b[36m(ServeController pid=5161)\u001b[0m INFO 2024-07-17 20:08:29,091 controller 5161 deployment_state.py:1598 - Deploying new version of Deployment(name='tool2', app='MyApp') (initial target replicas: 2).\n",
      "\u001b[36m(ServeController pid=5161)\u001b[0m INFO 2024-07-17 20:08:29,092 controller 5161 deployment_state.py:1598 - Deploying new version of Deployment(name='main_agent', app='MyApp') (initial target replicas: 1).\n",
      "\u001b[36m(ServeController pid=5161)\u001b[0m INFO 2024-07-17 20:08:29,092 controller 5161 deployment_state.py:1598 - Deploying new version of Deployment(name='runner', app='MyApp') (initial target replicas: 2).\n",
      "\u001b[36m(ServeController pid=5161)\u001b[0m INFO 2024-07-17 20:08:29,194 controller 5161 deployment_state.py:1844 - Adding 1 replica to Deployment(name='tool1', app='MyApp').\n",
      "\u001b[36m(ServeController pid=5161)\u001b[0m INFO 2024-07-17 20:08:29,199 controller 5161 deployment_state.py:1844 - Adding 2 replicas to Deployment(name='tool2', app='MyApp').\n",
      "\u001b[36m(ServeController pid=5161)\u001b[0m INFO 2024-07-17 20:08:29,199 controller 5161 deployment_state.py:1844 - Adding 1 replica to Deployment(name='main_agent', app='MyApp').\n",
      "\u001b[36m(ServeController pid=5161)\u001b[0m INFO 2024-07-17 20:08:29,200 controller 5161 deployment_state.py:1844 - Adding 2 replicas to Deployment(name='runner', app='MyApp').\n",
      "\u001b[36m(ServeReplica:MyApp:tool1 pid=5163)\u001b[0m WARNING 2024-07-17 20:08:29,952 MyApp_tool1 fkxjnqfq api.py:432 - The default value for `max_ongoing_requests` has changed from 100 to 5 in Ray 2.32.0.\n",
      "\u001b[36m(ServeReplica:MyApp:tool2 pid=5165)\u001b[0m WARNING 2024-07-17 20:08:29,986 MyApp_tool2 dn8r2teu api.py:432 - The default value for `max_ongoing_requests` has changed from 100 to 5 in Ray 2.32.0.\n",
      "\u001b[36m(ServeReplica:MyApp:main_agent pid=5166)\u001b[0m WARNING 2024-07-17 20:08:30,005 MyApp_main_agent w6wu8wuk api.py:432 - The default value for `max_ongoing_requests` has changed from 100 to 5 in Ray 2.32.0.\n",
      "\u001b[36m(ServeReplica:MyApp:runner pid=5167)\u001b[0m WARNING 2024-07-17 20:08:30,053 MyApp_runner rguvwsqb api.py:432 - The default value for `max_ongoing_requests` has changed from 100 to 5 in Ray 2.32.0.\n",
      "\u001b[36m(ServeReplica:MyApp:runner pid=5168)\u001b[0m WARNING 2024-07-17 20:08:30,079 MyApp_runner hm4hmxf0 api.py:432 - The default value for `max_ongoing_requests` has changed from 100 to 5 in Ray 2.32.0.\n",
      "2024-07-17 20:08:31,050\tINFO handle.py:126 -- Created DeploymentHandle 'vxgunfen' for Deployment(name='runner', app='MyApp').\n",
      "2024-07-17 20:08:31,052\tINFO api.py:609 -- Deployed app 'MyApp' successfully.\n"
     ]
    },
    {
     "name": "stderr",
     "output_type": "stream",
     "text": [
      "\u001b[36m(ServeReplica:MyApp:tool1 pid=5163)\u001b[0m INFO 2024-07-17 20:10:30,877 MyApp_tool1 fkxjnqfq 7361501c-dc0b-48cc-a22e-edac8751d779 replica.py:373 - INVOKE OK 2.0ms\n",
      "\u001b[36m(ServeReplica:MyApp:runner pid=5167)\u001b[0m INFO 2024-07-17 20:10:30,887 MyApp_runner rguvwsqb 7361501c-dc0b-48cc-a22e-edac8751d779 replica.py:373 - AINVOKE OK 45.3ms\n",
      "\u001b[36m(ServeReplica:MyApp:main_agent pid=5166)\u001b[0m INFO 2024-07-17 20:10:30,886 MyApp_main_agent w6wu8wuk 7361501c-dc0b-48cc-a22e-edac8751d779 replica.py:373 - AINVOKE OK 2.2ms\n"
     ]
    },
    {
     "name": "stdout",
     "output_type": "stream",
     "text": [
      "\u001b[36m(ServeReplica:MyApp:runner pid=5167)\u001b[0m \u001b[36;1m\u001b[1;3m\n",
      "\u001b[36m(ServeReplica:MyApp:runner pid=5167)\u001b[0m  > Running node: conditional_branch_tool1_tool2\n",
      "\u001b[36m(ServeReplica:MyApp:runner pid=5167)\u001b[0m \u001b[0m\n",
      "\u001b[36m(ServeReplica:MyApp:runner pid=5167)\u001b[0m \u001b[33;1m\u001b[1;3m\tInput: blue!\n",
      "\u001b[36m(ServeReplica:MyApp:runner pid=5167)\u001b[0m \u001b[0m\n",
      "\u001b[36m(ServeReplica:MyApp:runner pid=5167)\u001b[0m \u001b[32;1m\u001b[1;3m\tOutput (conditional_branch_tool1_tool2): {\n",
      "\u001b[36m(ServeReplica:MyApp:runner pid=5167)\u001b[0m   \"content\": \"Tool 1 has been triggered.\",\n",
      "\u001b[36m(ServeReplica:MyApp:runner pid=5167)\u001b[0m   \"action\": null,\n",
      "\u001b[36m(ServeReplica:MyApp:runner pid=5167)\u001b[0m   \"ref\": null\n",
      "\u001b[36m(ServeReplica:MyApp:runner pid=5167)\u001b[0m }\u001b[0m\n",
      "\u001b[36m(ServeReplica:MyApp:main_agent pid=5166)\u001b[0m \u001b[36;1m\u001b[1;3m\n",
      "\u001b[36m(ServeReplica:MyApp:main_agent pid=5166)\u001b[0m  > Running node: main_agent\n",
      "\u001b[36m(ServeReplica:MyApp:main_agent pid=5166)\u001b[0m \u001b[0m\n",
      "\u001b[36m(ServeReplica:MyApp:main_agent pid=5166)\u001b[0m \u001b[33;1m\u001b[1;3m\tInput: Tool 1 has been triggered.\n",
      "\u001b[36m(ServeReplica:MyApp:main_agent pid=5166)\u001b[0m \u001b[0m\n",
      "\u001b[36m(ServeReplica:MyApp:main_agent pid=5166)\u001b[0m \u001b[32;1m\u001b[1;3m\tOutput (main_agent): {\n",
      "\u001b[36m(ServeReplica:MyApp:main_agent pid=5166)\u001b[0m   \"content\": \"Hello! I was provided with some tool outputs: Tool 1 has been triggered.\",\n",
      "\u001b[36m(ServeReplica:MyApp:main_agent pid=5166)\u001b[0m   \"action\": \"respond\",\n",
      "\u001b[36m(ServeReplica:MyApp:main_agent pid=5166)\u001b[0m }\u001b[0m\n",
      "\u001b[36m(ServeReplica:MyApp:runner pid=5167)\u001b[0m \u001b[36;1m\u001b[1;3m\n",
      "\u001b[36m(ServeReplica:MyApp:runner pid=5167)\u001b[0m  > Running node: conditional_branch_tool1_tool2\n",
      "\u001b[36m(ServeReplica:MyApp:runner pid=5167)\u001b[0m \u001b[0m\n",
      "\u001b[36m(ServeReplica:MyApp:runner pid=5167)\u001b[0m \u001b[33;1m\u001b[1;3m\tInput: blue\n",
      "\u001b[36m(ServeReplica:MyApp:runner pid=5167)\u001b[0m \u001b[0m\n",
      "\u001b[36m(ServeReplica:MyApp:runner pid=5167)\u001b[0m \u001b[32;1m\u001b[1;3m\tOutput (conditional_branch_tool1_tool2): {\n",
      "\u001b[36m(ServeReplica:MyApp:runner pid=5167)\u001b[0m   \"content\": \"Tool 1 has been triggered.\",\n",
      "\u001b[36m(ServeReplica:MyApp:runner pid=5167)\u001b[0m   \"action\": null,\n",
      "\u001b[36m(ServeReplica:MyApp:runner pid=5167)\u001b[0m   \"ref\": null\n",
      "\u001b[36m(ServeReplica:MyApp:runner pid=5167)\u001b[0m }\u001b[0m\n",
      "\u001b[36m(ServeReplica:MyApp:main_agent pid=5166)\u001b[0m \u001b[36;1m\u001b[1;3m\n",
      "\u001b[36m(ServeReplica:MyApp:main_agent pid=5166)\u001b[0m  > Running node: main_agent\n",
      "\u001b[36m(ServeReplica:MyApp:main_agent pid=5166)\u001b[0m \u001b[0m\n",
      "\u001b[36m(ServeReplica:MyApp:main_agent pid=5166)\u001b[0m \u001b[33;1m\u001b[1;3m\tInput: Tool 1 has been triggered.\n",
      "\u001b[36m(ServeReplica:MyApp:main_agent pid=5166)\u001b[0m \u001b[0m\n",
      "\u001b[36m(ServeReplica:MyApp:main_agent pid=5166)\u001b[0m \u001b[32;1m\u001b[1;3m\tOutput (main_agent): {\n",
      "\u001b[36m(ServeReplica:MyApp:main_agent pid=5166)\u001b[0m   \"content\": \"Hello! I was provided with some tool outputs: Tool 1 has been triggered.\",\n",
      "\u001b[36m(ServeReplica:MyApp:main_agent pid=5166)\u001b[0m   \"action\": \"respond\",\n",
      "\u001b[36m(ServeReplica:MyApp:main_agent pid=5166)\u001b[0m }\u001b[0m\n"
     ]
    },
    {
     "name": "stderr",
     "output_type": "stream",
     "text": [
      "\u001b[36m(ServeReplica:MyApp:tool1 pid=5163)\u001b[0m INFO 2024-07-17 20:10:33,304 MyApp_tool1 fkxjnqfq 1b463dcf-6bc4-4883-9f98-a29c70e9bd27 /invoke replica.py:373 - INVOKE OK 1.7ms\n",
      "\u001b[36m(ServeReplica:MyApp:runner pid=5167)\u001b[0m INFO 2024-07-17 20:10:33,314 MyApp_runner rguvwsqb 1b463dcf-6bc4-4883-9f98-a29c70e9bd27 /invoke replica.py:373 - __CALL__ OK 23.2ms\n",
      "\u001b[36m(ServeReplica:MyApp:main_agent pid=5166)\u001b[0m INFO 2024-07-17 20:10:33,312 MyApp_main_agent w6wu8wuk 1b463dcf-6bc4-4883-9f98-a29c70e9bd27 /invoke replica.py:373 - AINVOKE OK 2.2ms\n"
     ]
    }
   ],
   "source": [
    "from ray import serve\n",
    "\n",
    "# we can now serve it using Ray Serve\n",
    "\n",
    "app = serve.run(runner, name=\"MyApp\")"
   ]
  },
  {
   "cell_type": "code",
   "execution_count": 12,
   "metadata": {},
   "outputs": [
    {
     "name": "stdout",
     "output_type": "stream",
     "text": [
      "proxies:\n",
      "  6f0d1b1ef00348e85c1f0ddae8575304cb220b0be8ab9e1830a73ea7: HEALTHY\n",
      "applications:\n",
      "  default:\n",
      "    status: RUNNING\n",
      "    message: ''\n",
      "    last_deployed_time_s: 1721160715.955894\n",
      "    deployments:\n",
      "      legal_researcher:\n",
      "        status: HEALTHY\n",
      "        status_trigger: CONFIG_UPDATE_COMPLETED\n",
      "        replica_states:\n",
      "          RUNNING: 1\n",
      "        message: ''\n",
      "      search_tool:\n",
      "        status: HEALTHY\n",
      "        status_trigger: CONFIG_UPDATE_COMPLETED\n",
      "        replica_states:\n",
      "          RUNNING: 1\n",
      "        message: ''\n",
      "      runner:\n",
      "        status: HEALTHY\n",
      "        status_trigger: CONFIG_UPDATE_COMPLETED\n",
      "        replica_states:\n",
      "          RUNNING: 1\n",
      "        message: ''\n",
      "target_capacity: null\n",
      "\u001b[0m"
     ]
    }
   ],
   "source": [
    "!serve status"
   ]
  },
  {
   "cell_type": "code",
   "execution_count": 13,
   "metadata": {},
   "outputs": [
    {
     "name": "stderr",
     "output_type": "stream",
     "text": [
      "2024-07-17 20:10:30,807\tINFO handle.py:126 -- Created DeploymentHandle '7t4r9i1x' for Deployment(name='runner', app='MyApp').\n",
      "2024-07-17 20:10:30,816\tINFO pow_2_scheduler.py:260 -- Got updated replicas for Deployment(name='runner', app='MyApp'): {'hm4hmxf0', 'rguvwsqb'}.\n"
     ]
    },
    {
     "data": {
      "text/plain": [
       "'Hello! I was provided with some tool outputs: Tool 1 has been triggered.'"
      ]
     },
     "execution_count": 13,
     "metadata": {},
     "output_type": "execute_result"
    }
   ],
   "source": [
    "result = await app.ainvoke.remote(\"blue!\")\n",
    "result"
   ]
  },
  {
   "cell_type": "code",
   "execution_count": 14,
   "metadata": {},
   "outputs": [
    {
     "name": "stdout",
     "output_type": "stream",
     "text": [
      "Hello! I was provided with some tool outputs: Tool 1 has been triggered.\n"
     ]
    }
   ],
   "source": [
    "# we can also interact with the application via REST\n",
    "\n",
    "import requests\n",
    "\n",
    "response = requests.post(\"http://localhost:8000/invoke\", data=\"blue\")\n",
    "\n",
    "print(response.text)"
   ]
  },
  {
   "cell_type": "code",
   "execution_count": null,
   "metadata": {},
   "outputs": [],
   "source": []
  }
 ],
 "metadata": {
  "kernelspec": {
   "display_name": "tinyagents-JQO3J91T-py3.11",
   "language": "python",
   "name": "python3"
  },
  "language_info": {
   "codemirror_mode": {
    "name": "ipython",
    "version": 3
   },
   "file_extension": ".py",
   "mimetype": "text/x-python",
   "name": "python",
   "nbconvert_exporter": "python",
   "pygments_lexer": "ipython3",
   "version": "3.11.5"
  }
 },
 "nbformat": 4,
 "nbformat_minor": 2
}
