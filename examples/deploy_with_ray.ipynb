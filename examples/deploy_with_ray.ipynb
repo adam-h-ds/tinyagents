{
 "cells": [
  {
   "cell_type": "code",
   "execution_count": 1,
   "metadata": {},
   "outputs": [
    {
     "name": "stderr",
     "output_type": "stream",
     "text": [
      "2024-07-15 21:32:08,876\tINFO util.py:154 -- Missing packages: ['ipywidgets']. Run `pip install -U ipywidgets`, then restart the notebook server for rich notebook output.\n"
     ]
    }
   ],
   "source": [
    "from tinyagents import chainable, respond\n",
    "\n",
    "@chainable\n",
    "class Agent:\n",
    "    name: str = \"main_agent\"\n",
    "\n",
    "    def __init__(self):\n",
    "        pass\n",
    "\n",
    "    def run(self, input: str):\n",
    "        return \"Hello! I was provided with some tool outputs: \" + str(input)\n",
    "    \n",
    "    def output_handler(self, output):\n",
    "        return respond(output)\n",
    "\n",
    "@chainable\n",
    "class Tool1:\n",
    "    \"\"\" Some tool \"\"\"\n",
    "    name: str = \"tool1\"\n",
    "\n",
    "    def run(self, input):\n",
    "        return \"Tool 1 has been triggered.\"\n",
    "\n",
    "@chainable\n",
    "class Tool2:\n",
    "    \"\"\" Some other tool \"\"\"\n",
    "    def __init__(self, phrase: str):\n",
    "        self.phrase = phrase\n",
    "\n",
    "    def run(self, input):\n",
    "        return f\"Tool 2 has been {self.phrase}.\""
   ]
  },
  {
   "cell_type": "code",
   "execution_count": 2,
   "metadata": {},
   "outputs": [
    {
     "data": {
      "text/plain": [
       "ConditionalBranch(tool1 | Tool2)"
      ]
     },
     "execution_count": 2,
     "metadata": {},
     "output_type": "execute_result"
    }
   ],
   "source": [
    "branch1 = Tool1() / Tool2(phrase=\"executed\")\n",
    "\n",
    "def router(x):\n",
    "    if x.startswith(\"blue\"):\n",
    "        return Tool1.name\n",
    "    \n",
    "    return Tool2.name\n",
    "    \n",
    "\n",
    "branch1.bind_router(router)"
   ]
  },
  {
   "cell_type": "code",
   "execution_count": 3,
   "metadata": {},
   "outputs": [
    {
     "data": {
      "text/plain": [
       "'ConditionalBranch(tool1 | Tool2) -> main_agent'"
      ]
     },
     "execution_count": 3,
     "metadata": {},
     "output_type": "execute_result"
    }
   ],
   "source": [
    "graph = branch1 | Agent()\n",
    "str(graph)"
   ]
  },
  {
   "cell_type": "code",
   "execution_count": 4,
   "metadata": {},
   "outputs": [
    {
     "name": "stdout",
     "output_type": "stream",
     "text": [
      "\u001b[36;1m\u001b[1;3m\n",
      " > Running node: ConditionalBranch(tool1 | Tool2)\n",
      "\u001b[0m\n",
      "\u001b[33;1m\u001b[1;3m\tInput: blue!\n",
      "\u001b[0m\n",
      "\u001b[32;1m\u001b[1;3m\tOutput (ConditionalBranch(tool1 | Tool2)): {\n",
      "  \"content\": \"Tool 1 has been triggered.\",\n",
      "  \"action\": null,\n",
      "  \"ref\": null\n",
      "}\u001b[0m\n",
      "\u001b[36;1m\u001b[1;3m\n",
      " > Running node: main_agent\n",
      "\u001b[0m\n",
      "\u001b[33;1m\u001b[1;3m\tInput: Tool 1 has been triggered.\n",
      "\u001b[0m\n",
      "\u001b[32;1m\u001b[1;3m\tOutput (main_agent): {\n",
      "  \"content\": \"Hello! I was provided with some tool outputs: Tool 1 has been triggered.\",\n",
      "  \"action\": \"respond\",\n",
      "  \"ref\": null\n",
      "}\u001b[0m\n"
     ]
    },
    {
     "data": {
      "text/plain": [
       "'Hello! I was provided with some tool outputs: Tool 1 has been triggered.'"
      ]
     },
     "execution_count": 4,
     "metadata": {},
     "output_type": "execute_result"
    }
   ],
   "source": [
    "# Run without using Ray\n",
    "runner = graph.compile()\n",
    "runner.invoke(\"blue!\")"
   ]
  },
  {
   "cell_type": "code",
   "execution_count": 5,
   "metadata": {},
   "outputs": [
    {
     "name": "stdout",
     "output_type": "stream",
     "text": [
      "\u001b[36;1m\u001b[1;3m\n",
      " > Running node: ConditionalBranch(tool1 | Tool2)\n",
      "\u001b[0m\n",
      "\u001b[33;1m\u001b[1;3m\tInput: yellow!\n",
      "\u001b[0m\n",
      "\u001b[32;1m\u001b[1;3m\tOutput (ConditionalBranch(tool1 | Tool2)): {\n",
      "  \"content\": \"Tool 2 has been executed.\",\n",
      "  \"action\": null,\n",
      "  \"ref\": null\n",
      "}\u001b[0m\n",
      "\u001b[36;1m\u001b[1;3m\n",
      " > Running node: main_agent\n",
      "\u001b[0m\n",
      "\u001b[33;1m\u001b[1;3m\tInput: Tool 2 has been executed.\n",
      "\u001b[0m\n",
      "\u001b[32;1m\u001b[1;3m\tOutput (main_agent): {\n",
      "  \"content\": \"Hello! I was provided with some tool outputs: Tool 2 has been executed.\",\n",
      "  \"action\": \"respond\",\n",
      "  \"ref\": null\n",
      "}\u001b[0m\n"
     ]
    },
    {
     "data": {
      "text/plain": [
       "'Hello! I was provided with some tool outputs: Tool 2 has been executed.'"
      ]
     },
     "execution_count": 5,
     "metadata": {},
     "output_type": "execute_result"
    }
   ],
   "source": [
    "runner.invoke(\"yellow!\")"
   ]
  },
  {
   "cell_type": "code",
   "execution_count": 6,
   "metadata": {},
   "outputs": [
    {
     "data": {
      "text/plain": [
       "<ray.serve.deployment.Application at 0x116033bd0>"
      ]
     },
     "execution_count": 6,
     "metadata": {},
     "output_type": "execute_result"
    }
   ],
   "source": [
    "# Run using Ray\n",
    "runner = graph.compile(\n",
    "    use_ray=True,\n",
    "    ray_options={\n",
    "        \"tool1\": {\n",
    "            \"num_replicas\": 3\n",
    "        },\n",
    "        \"tool2\": {\n",
    "            \"num_replicas\": 3,\n",
    "            # \"placement_group_strategy\": ... \n",
    "        },\n",
    "        \"runner\": {\n",
    "            \"num_replicas\": 2\n",
    "        }\n",
    "    }\n",
    ")\n",
    "runner"
   ]
  },
  {
   "cell_type": "code",
   "execution_count": 7,
   "metadata": {},
   "outputs": [
    {
     "name": "stderr",
     "output_type": "stream",
     "text": [
      "2024-07-15 21:32:10,969\tINFO worker.py:1762 -- Started a local Ray instance. View the dashboard at \u001b[1m\u001b[32mhttp://127.0.0.1:8265 \u001b[39m\u001b[22m\n",
      "\u001b[36m(ProxyActor pid=64742)\u001b[0m INFO 2024-07-15 21:32:12,393 proxy 127.0.0.1 proxy.py:1179 - Proxy starting on node 0fd9c24479671e71cf618179e405fb840349464b2039ce7bc00a1e98 (HTTP port: 8000).2024-07-15 21:32:12,427\tINFO handle.py:126 -- Created DeploymentHandle '1frzrxl6' for Deployment(name='tool1', app='MyApp').\n",
      "\n",
      "2024-07-15 21:32:12,428\tINFO handle.py:126 -- Created DeploymentHandle 'ip857yee' for Deployment(name='Tool2', app='MyApp').\n",
      "2024-07-15 21:32:12,429\tINFO handle.py:126 -- Created DeploymentHandle 'zi2k7jw0' for Deployment(name='main_agent', app='MyApp').\n",
      "2024-07-15 21:32:12,429\tINFO handle.py:126 -- Created DeploymentHandle 'qr7ihs9p' for Deployment(name='tool1', app='MyApp').\n",
      "2024-07-15 21:32:12,429\tINFO handle.py:126 -- Created DeploymentHandle 'jsfg9ulz' for Deployment(name='Tool2', app='MyApp').\n",
      "2024-07-15 21:32:12,429\tINFO handle.py:126 -- Created DeploymentHandle 'hozvmgcz' for Deployment(name='main_agent', app='MyApp').\n",
      "2024-07-15 21:32:12,430\tINFO handle.py:126 -- Created DeploymentHandle 'frd76rd2' for Deployment(name='runner', app='MyApp').\n",
      "2024-07-15 21:32:12,431\tINFO handle.py:126 -- Created DeploymentHandle '380uhps2' for Deployment(name='tool1', app='MyApp').\n",
      "2024-07-15 21:32:12,431\tINFO handle.py:126 -- Created DeploymentHandle 'gxgp4y8j' for Deployment(name='Tool2', app='MyApp').\n",
      "2024-07-15 21:32:12,431\tINFO handle.py:126 -- Created DeploymentHandle 'zh6dgfju' for Deployment(name='main_agent', app='MyApp').\n",
      "2024-07-15 21:32:12,431\tINFO handle.py:126 -- Created DeploymentHandle 'ic9pm1my' for Deployment(name='runner', app='MyApp').\n",
      "\u001b[36m(ServeController pid=64738)\u001b[0m INFO 2024-07-15 21:32:12,449 controller 64738 deployment_state.py:1598 - Deploying new version of Deployment(name='tool1', app='MyApp') (initial target replicas: 3).\n",
      "\u001b[36m(ServeController pid=64738)\u001b[0m INFO 2024-07-15 21:32:12,449 controller 64738 deployment_state.py:1598 - Deploying new version of Deployment(name='Tool2', app='MyApp') (initial target replicas: 1).\n",
      "\u001b[36m(ServeController pid=64738)\u001b[0m INFO 2024-07-15 21:32:12,450 controller 64738 deployment_state.py:1598 - Deploying new version of Deployment(name='main_agent', app='MyApp') (initial target replicas: 1).\n",
      "\u001b[36m(ServeController pid=64738)\u001b[0m INFO 2024-07-15 21:32:12,450 controller 64738 deployment_state.py:1598 - Deploying new version of Deployment(name='runner', app='MyApp') (initial target replicas: 2).\n",
      "\u001b[36m(ServeController pid=64738)\u001b[0m INFO 2024-07-15 21:32:12,553 controller 64738 deployment_state.py:1844 - Adding 3 replicas to Deployment(name='tool1', app='MyApp').\n",
      "\u001b[36m(ServeController pid=64738)\u001b[0m INFO 2024-07-15 21:32:12,556 controller 64738 deployment_state.py:1844 - Adding 1 replica to Deployment(name='Tool2', app='MyApp').\n",
      "\u001b[36m(ServeController pid=64738)\u001b[0m INFO 2024-07-15 21:32:12,557 controller 64738 deployment_state.py:1844 - Adding 1 replica to Deployment(name='main_agent', app='MyApp').\n",
      "\u001b[36m(ServeController pid=64738)\u001b[0m INFO 2024-07-15 21:32:12,557 controller 64738 deployment_state.py:1844 - Adding 2 replicas to Deployment(name='runner', app='MyApp').\n",
      "2024-07-15 21:32:14,452\tINFO handle.py:126 -- Created DeploymentHandle '7e9fe71u' for Deployment(name='runner', app='MyApp').\n",
      "2024-07-15 21:32:14,453\tINFO api.py:583 -- Deployed app 'MyApp' successfully.\n"
     ]
    }
   ],
   "source": [
    "from ray import serve\n",
    "\n",
    "# we can now serve it using Ray Serve\n",
    "\n",
    "app = serve.run(runner, name=\"MyApp\")"
   ]
  },
  {
   "cell_type": "code",
   "execution_count": 8,
   "metadata": {},
   "outputs": [
    {
     "name": "stdout",
     "output_type": "stream",
     "text": [
      "proxies:\n",
      "  0fd9c24479671e71cf618179e405fb840349464b2039ce7bc00a1e98: HEALTHY\n",
      "applications:\n",
      "  MyApp:\n",
      "    status: RUNNING\n",
      "    message: ''\n",
      "    last_deployed_time_s: 1721075532.433455\n",
      "    deployments:\n",
      "      tool1:\n",
      "        status: HEALTHY\n",
      "        status_trigger: CONFIG_UPDATE_COMPLETED\n",
      "        replica_states:\n",
      "          RUNNING: 3\n",
      "        message: ''\n",
      "      Tool2:\n",
      "        status: HEALTHY\n",
      "        status_trigger: CONFIG_UPDATE_COMPLETED\n",
      "        replica_states:\n",
      "          RUNNING: 1\n",
      "        message: ''\n",
      "      main_agent:\n",
      "        status: HEALTHY\n",
      "        status_trigger: CONFIG_UPDATE_COMPLETED\n",
      "        replica_states:\n",
      "          RUNNING: 1\n",
      "        message: ''\n",
      "      runner:\n",
      "        status: HEALTHY\n",
      "        status_trigger: CONFIG_UPDATE_COMPLETED\n",
      "        replica_states:\n",
      "          RUNNING: 2\n",
      "        message: ''\n",
      "target_capacity: null\n",
      "\u001b[0m"
     ]
    }
   ],
   "source": [
    "!serve status"
   ]
  },
  {
   "cell_type": "code",
   "execution_count": 9,
   "metadata": {},
   "outputs": [
    {
     "name": "stderr",
     "output_type": "stream",
     "text": [
      "2024-07-15 21:32:15,411\tINFO handle.py:126 -- Created DeploymentHandle 's0k9do12' for Deployment(name='runner', app='MyApp').\n",
      "2024-07-15 21:32:15,416\tINFO pow_2_scheduler.py:260 -- Got updated replicas for Deployment(name='runner', app='MyApp'): {'y2kvw95e', 'loqbid8f'}.\n"
     ]
    },
    {
     "data": {
      "text/plain": [
       "NodeOutput(content='Hello! I was provided with some tool outputs: Tool 1 has been triggered.', action=<Action.Respond: 'respond'>, ref=None)"
      ]
     },
     "execution_count": 9,
     "metadata": {},
     "output_type": "execute_result"
    }
   ],
   "source": [
    "result = await app.ainvoke.remote(\"blue!\")\n",
    "result"
   ]
  },
  {
   "cell_type": "code",
   "execution_count": 11,
   "metadata": {},
   "outputs": [
    {
     "name": "stdout",
     "output_type": "stream",
     "text": [
      "{\"content\":\"Hello! I was provided with some tool outputs: Tool 1 has been triggered.\",\"action\":\"respond\",\"ref\":null}\n"
     ]
    }
   ],
   "source": [
    "# we can also interact with the application via REST\n",
    "\n",
    "import requests\n",
    "\n",
    "response = requests.post(\"http://localhost:8000/invoke\", data=\"blue\")\n",
    "\n",
    "print(response.text)"
   ]
  }
 ],
 "metadata": {
  "kernelspec": {
   "display_name": "tinyagents-JQO3J91T-py3.11",
   "language": "python",
   "name": "python3"
  },
  "language_info": {
   "codemirror_mode": {
    "name": "ipython",
    "version": 3
   },
   "file_extension": ".py",
   "mimetype": "text/x-python",
   "name": "python",
   "nbconvert_exporter": "python",
   "pygments_lexer": "ipython3",
   "version": "3.11.5"
  }
 },
 "nbformat": 4,
 "nbformat_minor": 2
}
